{
 "cells": [
  {
   "cell_type": "code",
   "execution_count": null,
   "id": "56f9e929-8f92-45fa-b2b6-b9f039e6997a",
   "metadata": {},
   "outputs": [],
   "source": [
    "Q1. Contingency Matrix in Classification Evaluation:\n",
    "\n",
    "A contingency matrix, also known as a confusion matrix, is a table that describes the performance of a classification algorithm. It compares the predicted class labels with the actual class labels.\n",
    "It has four entries: True Positive (TP), True Negative (TN), False Positive (FP), and False Negative (FN).\n",
    "Q2. Pair Confusion Matrix:\n",
    "\n",
    "A pair confusion matrix is used in the context of multi-label classification. It extends the confusion matrix to handle multiple labels for each instance.\n",
    "It is useful in situations where instances can belong to more than one class, providing a more detailed evaluation.\n",
    "Q3. Extrinsic Measure in NLP:\n",
    "\n",
    "An extrinsic measure evaluates the performance of a language model based on its performance in a downstream task, such as text classification or information retrieval.\n",
    "It assesses the model's utility in real-world applications.\n",
    "Q4. Intrinsic Measure in Machine Learning:\n",
    "\n",
    "An intrinsic measure evaluates a model's performance based on its inherent characteristics, often without considering its performance in a specific task.\n",
    "In contrast to extrinsic measures, intrinsic measures focus on model properties such as convergence speed or model complexity.\n",
    "Q5. Confusion Matrix in ML:\n",
    "\n",
    "The confusion matrix provides a detailed breakdown of a model's performance, showing true positives, true negatives, false positives, and false negatives.\n",
    "It helps identify strengths (high TP, TN) and weaknesses (FP, FN) of a model, especially in terms of specific error types.\n",
    "Q6. Intrinsic Measures for Unsupervised Learning:\n",
    "\n",
    "Measures such as Silhouette Coefficient, Davies-Bouldin Index, and Inertia are common intrinsic measures for clustering algorithms.\n",
    "They provide insights into the compactness, separation, and overall quality of clusters.\n",
    "Q7. Limitations of Accuracy in Classification:\n",
    "\n",
    "Imbalanced Datasets: Accuracy can be misleading in imbalanced datasets, where one class dominates.\n",
    "Misleading Impression: Doesn't reveal specific types of errors (FP, FN).\n",
    "Not Suitable for All Cases: In applications where different types of errors have different consequences, accuracy may not be a sufficient metric.\n",
    "Addressing Limitations:\n",
    "\n",
    "Use precision, recall, F1-score, or area under the ROC curve (AUC-ROC) for a more comprehensive evaluation.\n",
    "Consider domain-specific metrics based on the specific requirements of the application.\n",
    "\n",
    "\n",
    "\n",
    "\n",
    "\n"
   ]
  }
 ],
 "metadata": {
  "kernelspec": {
   "display_name": "Python 3 (ipykernel)",
   "language": "python",
   "name": "python3"
  },
  "language_info": {
   "codemirror_mode": {
    "name": "ipython",
    "version": 3
   },
   "file_extension": ".py",
   "mimetype": "text/x-python",
   "name": "python",
   "nbconvert_exporter": "python",
   "pygments_lexer": "ipython3",
   "version": "3.10.8"
  }
 },
 "nbformat": 4,
 "nbformat_minor": 5
}
